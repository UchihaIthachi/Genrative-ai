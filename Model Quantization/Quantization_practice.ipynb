{
 "cells": [
  {
   "cell_type": "markdown",
   "metadata": {},
   "source": [
    "# List of libraries\n",
    "\n",
    "\n",
    "\n",
    "* !pip install torch\n",
    "* !pip install transformers\n",
    "* !pip install sentencepiece\n",
    "* !pip install quanto\n",
    "* !pip install accelerate\n",
    "* !pip install tensorboard\n",
    "* !pip install torchvision\n",
    "\n",
    "If you want to upgrade  - !pip install --upgrade torch\n",
    "\n",
    "If if you are getting the error \"Could not install packages due to an EnvironmentError: Access is denied\"\" - !pip install torch --user\n"
   ]
  },
  {
   "cell_type": "markdown",
   "metadata": {},
   "source": [
    "# Integers"
   ]
  },
  {
   "cell_type": "code",
   "execution_count": 4,
   "metadata": {},
   "outputs": [],
   "source": [
    "import torch"
   ]
  },
  {
   "cell_type": "code",
   "execution_count": 5,
   "metadata": {},
   "outputs": [
    {
     "data": {
      "text/plain": [
       "iinfo(min=0, max=255, dtype=uint8)"
      ]
     },
     "execution_count": 5,
     "metadata": {},
     "output_type": "execute_result"
    }
   ],
   "source": [
    "torch.iinfo(torch.uint8)"
   ]
  },
  {
   "cell_type": "code",
   "execution_count": 6,
   "metadata": {},
   "outputs": [
    {
     "data": {
      "text/plain": [
       "iinfo(min=-128, max=127, dtype=int8)"
      ]
     },
     "execution_count": 6,
     "metadata": {},
     "output_type": "execute_result"
    }
   ],
   "source": [
    "torch.iinfo(torch.int8)"
   ]
  },
  {
   "cell_type": "code",
   "execution_count": 7,
   "metadata": {},
   "outputs": [
    {
     "data": {
      "text/plain": [
       "iinfo(min=-32768, max=32767, dtype=int16)"
      ]
     },
     "execution_count": 7,
     "metadata": {},
     "output_type": "execute_result"
    }
   ],
   "source": [
    "torch.iinfo(torch.int16)"
   ]
  },
  {
   "cell_type": "markdown",
   "metadata": {},
   "source": [
    "# Floating Point"
   ]
  },
  {
   "cell_type": "code",
   "execution_count": 8,
   "metadata": {},
   "outputs": [
    {
     "data": {
      "text/plain": [
       "finfo(resolution=1e-06, min=-3.40282e+38, max=3.40282e+38, eps=1.19209e-07, smallest_normal=1.17549e-38, tiny=1.17549e-38, dtype=float32)"
      ]
     },
     "execution_count": 8,
     "metadata": {},
     "output_type": "execute_result"
    }
   ],
   "source": [
    "torch.finfo(torch.float32)"
   ]
  },
  {
   "cell_type": "code",
   "execution_count": 9,
   "metadata": {},
   "outputs": [
    {
     "data": {
      "text/plain": [
       "finfo(resolution=0.001, min=-65504, max=65504, eps=0.000976562, smallest_normal=6.10352e-05, tiny=6.10352e-05, dtype=float16)"
      ]
     },
     "execution_count": 9,
     "metadata": {},
     "output_type": "execute_result"
    }
   ],
   "source": [
    "torch.finfo(torch.float16)"
   ]
  },
  {
   "cell_type": "code",
   "execution_count": 10,
   "metadata": {},
   "outputs": [
    {
     "data": {
      "text/plain": [
       "finfo(resolution=0.01, min=-3.38953e+38, max=3.38953e+38, eps=0.0078125, smallest_normal=1.17549e-38, tiny=1.17549e-38, dtype=bfloat16)"
      ]
     },
     "execution_count": 10,
     "metadata": {},
     "output_type": "execute_result"
    }
   ],
   "source": [
    "torch.finfo(torch.bfloat16)"
   ]
  },
  {
   "cell_type": "code",
   "execution_count": 11,
   "metadata": {},
   "outputs": [],
   "source": [
    "x = 10/3"
   ]
  },
  {
   "cell_type": "code",
   "execution_count": 12,
   "metadata": {},
   "outputs": [
    {
     "data": {
      "text/plain": [
       "'3.333333333333333481363069950020872056484222412109375000000000'"
      ]
     },
     "execution_count": 12,
     "metadata": {},
     "output_type": "execute_result"
    }
   ],
   "source": [
    "format(x, '.60f')"
   ]
  },
  {
   "cell_type": "code",
   "execution_count": 13,
   "metadata": {},
   "outputs": [],
   "source": [
    "tensor_fp64 = torch.tensor(x, dtype = torch.float64)\n",
    "tensor_fp32 = torch.tensor(x, dtype = torch.float32)\n",
    "tensor_fp16 = torch.tensor(x, dtype = torch.float16)\n",
    "tensor_bf16 = torch.tensor(x, dtype = torch.bfloat16)"
   ]
  },
  {
   "cell_type": "code",
   "execution_count": 14,
   "metadata": {},
   "outputs": [
    {
     "name": "stdout",
     "output_type": "stream",
     "text": [
      "fp64 tensor: 3.333333333333333481363069950020872056484222412109375000000000\n",
      "fp32 tensor: 3.333333253860473632812500000000000000000000000000000000000000\n",
      "fp16 tensor: 3.333984375000000000000000000000000000000000000000000000000000\n",
      "bf16 tensor: 3.328125000000000000000000000000000000000000000000000000000000\n"
     ]
    }
   ],
   "source": [
    "print(f\"fp64 tensor: {format(tensor_fp64.item(), '.60f')}\")\n",
    "print(f\"fp32 tensor: {format(tensor_fp32.item(), '.60f')}\")\n",
    "print(f\"fp16 tensor: {format(tensor_fp16.item(), '.60f')}\")\n",
    "print(f\"bf16 tensor: {format(tensor_bf16.item(), '.60f')}\")"
   ]
  },
  {
   "cell_type": "markdown",
   "metadata": {},
   "source": [
    "# Downcasting FP32 to BF16"
   ]
  },
  {
   "cell_type": "code",
   "execution_count": null,
   "metadata": {},
   "outputs": [],
   "source": [
    "# Create a random PyTorch tensor with 1000 elements of type float32"
   ]
  },
  {
   "cell_type": "code",
   "execution_count": 18,
   "metadata": {},
   "outputs": [],
   "source": [
    "tensor_fp32 = torch.rand(1000, dtype=torch.float32)"
   ]
  },
  {
   "cell_type": "code",
   "execution_count": null,
   "metadata": {},
   "outputs": [],
   "source": []
  },
  {
   "cell_type": "code",
   "execution_count": null,
   "metadata": {},
   "outputs": [],
   "source": [
    "# Get and print the first 5 elements of the random tensor to inspect"
   ]
  },
  {
   "cell_type": "code",
   "execution_count": 19,
   "metadata": {},
   "outputs": [
    {
     "name": "stdout",
     "output_type": "stream",
     "text": [
      "tensor([0.6218, 0.4792, 0.7669, 0.6732, 0.1928])\n"
     ]
    }
   ],
   "source": [
    "print(tensor_fp32[:5])"
   ]
  },
  {
   "cell_type": "code",
   "execution_count": null,
   "metadata": {},
   "outputs": [],
   "source": []
  },
  {
   "cell_type": "code",
   "execution_count": null,
   "metadata": {},
   "outputs": [],
   "source": [
    "# Downcast (convert) the tensor to bfloat16 using the \"to\" method"
   ]
  },
  {
   "cell_type": "code",
   "execution_count": 20,
   "metadata": {},
   "outputs": [],
   "source": [
    "tensor_fp32_to_bf16 = tensor_fp32.to(dtype=torch.bfloat16)"
   ]
  },
  {
   "cell_type": "code",
   "execution_count": null,
   "metadata": {},
   "outputs": [],
   "source": []
  },
  {
   "cell_type": "code",
   "execution_count": null,
   "metadata": {},
   "outputs": [],
   "source": [
    "# Get and print the first 5 elements of the downcasted tensor to compare with float32"
   ]
  },
  {
   "cell_type": "code",
   "execution_count": 21,
   "metadata": {},
   "outputs": [
    {
     "name": "stdout",
     "output_type": "stream",
     "text": [
      "tensor([0.6211, 0.4785, 0.7656, 0.6719, 0.1924], dtype=torch.bfloat16)\n"
     ]
    }
   ],
   "source": [
    "print(tensor_fp32_to_bf16[:5])"
   ]
  },
  {
   "cell_type": "code",
   "execution_count": null,
   "metadata": {},
   "outputs": [],
   "source": []
  },
  {
   "cell_type": "code",
   "execution_count": null,
   "metadata": {},
   "outputs": [],
   "source": [
    "# Perform dot product of the original float32 tensor with itself"
   ]
  },
  {
   "cell_type": "code",
   "execution_count": 22,
   "metadata": {},
   "outputs": [],
   "source": [
    "m_float32 = torch.dot(tensor_fp32, tensor_fp32)"
   ]
  },
  {
   "cell_type": "code",
   "execution_count": null,
   "metadata": {},
   "outputs": [],
   "source": []
  },
  {
   "cell_type": "code",
   "execution_count": null,
   "metadata": {},
   "outputs": [],
   "source": [
    "# Print the result of the float32 dot product"
   ]
  },
  {
   "cell_type": "code",
   "execution_count": 23,
   "metadata": {},
   "outputs": [
    {
     "name": "stdout",
     "output_type": "stream",
     "text": [
      "Dot product result with float32: tensor(329.0930)\n"
     ]
    }
   ],
   "source": [
    "print(\"Dot product result with float32:\", m_float32)"
   ]
  },
  {
   "cell_type": "code",
   "execution_count": null,
   "metadata": {},
   "outputs": [],
   "source": []
  },
  {
   "cell_type": "code",
   "execution_count": null,
   "metadata": {},
   "outputs": [],
   "source": [
    "# Perform dot product of the bfloat16 tensor with itself"
   ]
  },
  {
   "cell_type": "code",
   "execution_count": 24,
   "metadata": {},
   "outputs": [],
   "source": [
    "m_bfloat16 = torch.dot(tensor_fp32_to_bf16, tensor_fp32_to_bf16)"
   ]
  },
  {
   "cell_type": "code",
   "execution_count": null,
   "metadata": {},
   "outputs": [],
   "source": []
  },
  {
   "cell_type": "code",
   "execution_count": null,
   "metadata": {},
   "outputs": [],
   "source": [
    "# Print the result of the bfloat16 dot product"
   ]
  },
  {
   "cell_type": "code",
   "execution_count": 25,
   "metadata": {},
   "outputs": [
    {
     "name": "stdout",
     "output_type": "stream",
     "text": [
      "Dot product result with bfloat16: tensor(330., dtype=torch.bfloat16)\n"
     ]
    }
   ],
   "source": [
    "print(\"Dot product result with bfloat16:\", m_bfloat16)"
   ]
  },
  {
   "cell_type": "code",
   "execution_count": null,
   "metadata": {},
   "outputs": [],
   "source": []
  },
  {
   "cell_type": "markdown",
   "metadata": {},
   "source": [
    " # Fashion MNIST model"
   ]
  },
  {
   "attachments": {
    "image.png": {
     "image/png": "[encoded data removed]"
    }
   },
   "cell_type": "markdown",
   "metadata": {},
   "source": [
    "Fashion-MNIST is a dataset of Zalando's article images—consisting of a training set of 60,000 examples and a test set of 10,000 examples. Each example is a 28x28 grayscale image, associated with a label from 10 classes. Zalando intends Fashion-MNIST to serve as a direct drop-in replacement for the original MNIST dataset for benchmarking machine learning algorithms. It shares the same image size and structure of training and testing splits.\n",
    "![image.png](attachment:image.png)"
   ]
  },
  {
   "cell_type": "code",
   "execution_count": 26,
   "metadata": {},
   "outputs": [
    {
     "name": "stdout",
     "output_type": "stream",
     "text": [
      "Downloading http://fashion-mnist.s3-website.eu-central-1.amazonaws.com/train-images-idx3-ubyte.gz\n",
      "Downloading http://fashion-mnist.s3-website.eu-central-1.amazonaws.com/train-images-idx3-ubyte.gz to ./data\\FashionMNIST\\raw\\train-images-idx3-ubyte.gz\n"
     ]
    },
    {
     "name": "stderr",
     "output_type": "stream",
     "text": [
      "100%|█████████████████████████████████████████████████████████████████| 26421880/26421880 [00:05<00:00, 4757784.39it/s]\n"
     ]
    },
    {
     "name": "stdout",
     "output_type": "stream",
     "text": [
      "Extracting ./data\\FashionMNIST\\raw\\train-images-idx3-ubyte.gz to ./data\\FashionMNIST\\raw\n",
      "\n",
      "Downloading http://fashion-mnist.s3-website.eu-central-1.amazonaws.com/train-labels-idx1-ubyte.gz\n",
      "Downloading http://fashion-mnist.s3-website.eu-central-1.amazonaws.com/train-labels-idx1-ubyte.gz to ./data\\FashionMNIST\\raw\\train-labels-idx1-ubyte.gz\n"
     ]
    },
    {
     "name": "stderr",
     "output_type": "stream",
     "text": [
      "100%|█████████████████████████████████████████████████████████████████████████| 29515/29515 [00:00<00:00, 61968.92it/s]\n"
     ]
    },
    {
     "name": "stdout",
     "output_type": "stream",
     "text": [
      "Extracting ./data\\FashionMNIST\\raw\\train-labels-idx1-ubyte.gz to ./data\\FashionMNIST\\raw\n",
      "\n",
      "Downloading http://fashion-mnist.s3-website.eu-central-1.amazonaws.com/t10k-images-idx3-ubyte.gz\n",
      "Downloading http://fashion-mnist.s3-website.eu-central-1.amazonaws.com/t10k-images-idx3-ubyte.gz to ./data\\FashionMNIST\\raw\\t10k-images-idx3-ubyte.gz\n"
     ]
    },
    {
     "name": "stderr",
     "output_type": "stream",
     "text": [
      "100%|███████████████████████████████████████████████████████████████████| 4422102/4422102 [00:01<00:00, 2865046.42it/s]\n"
     ]
    },
    {
     "name": "stdout",
     "output_type": "stream",
     "text": [
      "Extracting ./data\\FashionMNIST\\raw\\t10k-images-idx3-ubyte.gz to ./data\\FashionMNIST\\raw\n",
      "\n",
      "Downloading http://fashion-mnist.s3-website.eu-central-1.amazonaws.com/t10k-labels-idx1-ubyte.gz\n",
      "Downloading http://fashion-mnist.s3-website.eu-central-1.amazonaws.com/t10k-labels-idx1-ubyte.gz to ./data\\FashionMNIST\\raw\\t10k-labels-idx1-ubyte.gz\n"
     ]
    },
    {
     "name": "stderr",
     "output_type": "stream",
     "text": [
      "100%|█████████████████████████████████████████████████████████████████████████| 5148/5148 [00:00<00:00, 1287400.25it/s]\n"
     ]
    },
    {
     "name": "stdout",
     "output_type": "stream",
     "text": [
      "Extracting ./data\\FashionMNIST\\raw\\t10k-labels-idx1-ubyte.gz to ./data\\FashionMNIST\\raw\n",
      "\n",
      "EPOCH 1:\n",
      "  batch 1000 loss: 1.823573484107852\n",
      "  batch 2000 loss: 0.8457309862598776\n",
      "  batch 3000 loss: 0.7207988163419068\n",
      "  batch 4000 loss: 0.6647752400673926\n",
      "  batch 5000 loss: 0.5931583128785715\n",
      "  batch 6000 loss: 0.5625963939100038\n",
      "  batch 7000 loss: 0.534437843982596\n",
      "  batch 8000 loss: 0.48988430011924355\n",
      "  batch 9000 loss: 0.5281626285195816\n",
      "  batch 10000 loss: 0.47291349931352306\n",
      "  batch 11000 loss: 0.48552417491469535\n",
      "  batch 12000 loss: 0.4556596021070145\n",
      "  batch 13000 loss: 0.4397425925032585\n",
      "  batch 14000 loss: 0.44713757166848517\n",
      "  batch 15000 loss: 0.45948156065831425\n",
      "LOSS train 0.45948156065831425 valid 0.42798632961977273\n",
      "EPOCH 2:\n",
      "  batch 1000 loss: 0.44064244329195934\n",
      "  batch 2000 loss: 0.40825023662135934\n",
      "  batch 3000 loss: 0.4051016700906912\n",
      "  batch 4000 loss: 0.3992000386795553\n",
      "  batch 5000 loss: 0.392470339659747\n",
      "  batch 6000 loss: 0.3835932804834447\n",
      "  batch 7000 loss: 0.39508847407763825\n",
      "  batch 8000 loss: 0.37656398260701096\n",
      "  batch 9000 loss: 0.3680635402186599\n",
      "  batch 10000 loss: 0.3665034950776317\n",
      "  batch 11000 loss: 0.3493600037400611\n",
      "  batch 12000 loss: 0.36143440197748716\n",
      "  batch 13000 loss: 0.35864543429587503\n",
      "  batch 14000 loss: 0.3348781209622539\n",
      "  batch 15000 loss: 0.36049763593869283\n",
      "LOSS train 0.36049763593869283 valid 0.40136744135854535\n",
      "EPOCH 3:\n",
      "  batch 1000 loss: 0.3482922547056223\n",
      "  batch 2000 loss: 0.34528387277261935\n",
      "  batch 3000 loss: 0.33613303478951273\n",
      "  batch 4000 loss: 0.34011709572508697\n",
      "  batch 5000 loss: 0.32935707702647776\n",
      "  batch 6000 loss: 0.32182354909667626\n",
      "  batch 7000 loss: 0.3334432532483406\n",
      "  batch 8000 loss: 0.3302459705764486\n",
      "  batch 9000 loss: 0.35206710130459395\n",
      "  batch 10000 loss: 0.32083022600197003\n",
      "  batch 11000 loss: 0.3245501389218916\n",
      "  batch 12000 loss: 0.3041664683470008\n",
      "  batch 13000 loss: 0.31008728500620875\n",
      "  batch 14000 loss: 0.31703811322172987\n",
      "  batch 15000 loss: 0.32600896896322956\n",
      "LOSS train 0.32600896896322956 valid 0.3477576257495559\n",
      "EPOCH 4:\n",
      "  batch 1000 loss: 0.2957190662557732\n",
      "  batch 2000 loss: 0.32418817591231347\n",
      "  batch 3000 loss: 0.3094504396634875\n",
      "  batch 4000 loss: 0.32584833913528566\n",
      "  batch 5000 loss: 0.29899740772698713\n",
      "  batch 6000 loss: 0.3038817866317986\n",
      "  batch 7000 loss: 0.2902670460893205\n",
      "  batch 8000 loss: 0.3105132529797993\n",
      "  batch 9000 loss: 0.30663459742577104\n",
      "  batch 10000 loss: 0.3195974359805114\n",
      "  batch 11000 loss: 0.28266357536122816\n",
      "  batch 12000 loss: 0.2995234632544816\n",
      "  batch 13000 loss: 0.29134296411759714\n",
      "  batch 14000 loss: 0.30570946770532464\n",
      "  batch 15000 loss: 0.29422158689290157\n",
      "LOSS train 0.29422158689290157 valid 0.33757604911304007\n",
      "EPOCH 5:\n",
      "  batch 1000 loss: 0.2870850530208845\n",
      "  batch 2000 loss: 0.27526807304345585\n",
      "  batch 3000 loss: 0.28957027241359357\n",
      "  batch 4000 loss: 0.26669622895293127\n",
      "  batch 5000 loss: 0.29338746139116667\n",
      "  batch 6000 loss: 0.2767116211298653\n",
      "  batch 7000 loss: 0.27868088544972125\n",
      "  batch 8000 loss: 0.3019906972138124\n",
      "  batch 9000 loss: 0.2792461341122689\n",
      "  batch 10000 loss: 0.2954062829575123\n",
      "  batch 11000 loss: 0.30718927433015053\n",
      "  batch 12000 loss: 0.28047548807946077\n",
      "  batch 13000 loss: 0.28338734611774546\n",
      "  batch 14000 loss: 0.2642737832218627\n",
      "  batch 15000 loss: 0.28366355844706415\n",
      "LOSS train 0.28366355844706415 valid 0.31483649058125285\n"
     ]
    }
   ],
   "source": [
    "import torch\n",
    "import torchvision\n",
    "import torchvision.transforms as transforms\n",
    "import torch.nn as nn\n",
    "import torch.nn.functional as F\n",
    "\n",
    "# PyTorch TensorBoard support\n",
    "from torch.utils.tensorboard import SummaryWriter\n",
    "from datetime import datetime\n",
    "\n",
    "# Define transformation to normalize the data: convert images to tensors and normalize them to a range of -1 to 1\n",
    "transform = transforms.Compose(\n",
    "    [transforms.ToTensor(),\n",
    "    transforms.Normalize((0.5,), (0.5,))])\n",
    "\n",
    "# Create datasets for training & validation, download if not available\n",
    "training_set = torchvision.datasets.FashionMNIST('./data', train=True, transform=transform, download=True)\n",
    "validation_set = torchvision.datasets.FashionMNIST('./data', train=False, transform=transform, download=True)\n",
    "\n",
    "# Create data loaders for our datasets\n",
    "# Shuffle the training data to ensure randomness; validation data does not need shuffling\n",
    "training_loader = torch.utils.data.DataLoader(training_set, batch_size=4, shuffle=True)\n",
    "validation_loader = torch.utils.data.DataLoader(validation_set, batch_size=4, shuffle=False)\n",
    "\n",
    "# Define class labels for easier interpretation of the results\n",
    "classes = ('T-shirt/top', 'Trouser', 'Pullover', 'Dress', 'Coat',\n",
    "           'Sandal', 'Shirt', 'Sneaker', 'Bag', 'Ankle Boot')\n",
    "\n",
    "# Define the model architecture for garment classification\n",
    "class GarmentClassifier(nn.Module):\n",
    "    def __init__(self):\n",
    "        super(GarmentClassifier, self).__init__()\n",
    "        # Convolutional layer: input channel 1 (grayscale), output 6, kernel size 5x5\n",
    "        self.conv1 = nn.Conv2d(1, 6, 5)\n",
    "        # Max pooling layer: kernel size 2x2, stride 2\n",
    "        self.pool = nn.MaxPool2d(2, 2)\n",
    "        # Second convolutional layer: input 6, output 16, kernel size 5x5\n",
    "        self.conv2 = nn.Conv2d(6, 16, 5)\n",
    "        # Fully connected layer: input size 16*4*4, output size 120\n",
    "        self.fc1 = nn.Linear(16 * 4 * 4, 120)\n",
    "        # Fully connected layer: output size 84\n",
    "        self.fc2 = nn.Linear(120, 84)\n",
    "        # Final fully connected layer: output size 10 (for 10 classes)\n",
    "        self.fc3 = nn.Linear(84, 10)\n",
    "\n",
    "    def forward(self, x):\n",
    "        # Apply first convolutional layer, ReLU activation, and pooling\n",
    "        x = self.pool(F.relu(self.conv1(x)))\n",
    "        # Apply second convolutional layer, ReLU activation, and pooling\n",
    "        x = self.pool(F.relu(self.conv2(x)))\n",
    "        # Flatten the tensor for fully connected layers\n",
    "        x = x.view(-1, 16 * 4 * 4)\n",
    "        # Apply fully connected layers with ReLU activation\n",
    "        x = F.relu(self.fc1(x))\n",
    "        x = F.relu(self.fc2(x))\n",
    "        # Apply the final layer to get logits for 10 classes\n",
    "        x = self.fc3(x)\n",
    "        return x\n",
    "\n",
    "# Instantiate the model\n",
    "model = GarmentClassifier()\n",
    "\n",
    "# Define loss function (cross-entropy for multi-class classification)\n",
    "loss_fn = torch.nn.CrossEntropyLoss()\n",
    "\n",
    "# Define optimizer (Stochastic Gradient Descent)\n",
    "optimizer = torch.optim.SGD(model.parameters(), lr=0.001, momentum=0.9)\n",
    "\n",
    "# Function to train the model for one epoch\n",
    "def train_one_epoch(epoch_index, tb_writer):\n",
    "    running_loss = 0.0\n",
    "    last_loss = 0.0\n",
    "\n",
    "    # Enumerate over the training data\n",
    "    for i, data in enumerate(training_loader):\n",
    "        # Inputs and labels from the current batch\n",
    "        inputs, labels = data\n",
    "\n",
    "        # Zero out gradients to prevent accumulation\n",
    "        optimizer.zero_grad()\n",
    "\n",
    "        # Forward pass: make predictions for this batch\n",
    "        outputs = model(inputs)\n",
    "\n",
    "        # Compute the loss and backpropagate\n",
    "        loss = loss_fn(outputs, labels)\n",
    "        loss.backward()\n",
    "\n",
    "        # Update the model weights\n",
    "        optimizer.step()\n",
    "\n",
    "        # Update running loss and log every 1000 batches\n",
    "        running_loss += loss.item()\n",
    "        if i % 1000 == 999:\n",
    "            last_loss = running_loss / 1000  # Average loss per batch\n",
    "            print('  batch {} loss: {}'.format(i + 1, last_loss))\n",
    "            tb_x = epoch_index * len(training_loader) + i + 1\n",
    "            tb_writer.add_scalar('Loss/train', last_loss, tb_x)\n",
    "            running_loss = 0.0\n",
    "\n",
    "    return last_loss\n",
    "\n",
    "# Set up TensorBoard to visualize training metrics\n",
    "timestamp = datetime.now().strftime('%Y%m%d_%H%M%S')\n",
    "writer = SummaryWriter('runs/fashion_trainer_{}'.format(timestamp))\n",
    "epoch_number = 0\n",
    "\n",
    "# Number of epochs to train the model\n",
    "EPOCHS = 5\n",
    "\n",
    "# Initialize the best validation loss with a high value\n",
    "best_vloss = 1_000_000.0\n",
    "\n",
    "# Training loop\n",
    "for epoch in range(EPOCHS):\n",
    "    print('EPOCH {}:'.format(epoch_number + 1))\n",
    "\n",
    "    # Set the model to training mode to track gradients\n",
    "    model.train(True)\n",
    "    avg_loss = train_one_epoch(epoch_number, writer)\n",
    "\n",
    "    running_vloss = 0.0\n",
    "\n",
    "    # Set the model to evaluation mode (disable dropout and batchnorm updates)\n",
    "    model.eval()\n",
    "\n",
    "    # Disable gradient computation for validation (saves memory and computation)\n",
    "    with torch.no_grad():\n",
    "        for i, vdata in enumerate(validation_loader):\n",
    "            vinputs, vlabels = vdata\n",
    "            # Forward pass for validation data\n",
    "            voutputs = model(vinputs)\n",
    "            vloss = loss_fn(voutputs, vlabels)\n",
    "            running_vloss += vloss.item()\n",
    "\n",
    "    # Calculate average validation loss\n",
    "    avg_vloss = running_vloss / (i + 1)\n",
    "    print('LOSS train {} valid {}'.format(avg_loss, avg_vloss))\n",
    "\n",
    "    # Log training vs. validation loss to TensorBoard\n",
    "    writer.add_scalars('Training vs. Validation Loss',\n",
    "                       {'Training': avg_loss, 'Validation': avg_vloss},\n",
    "                       epoch_number + 1)\n",
    "    writer.flush()\n",
    "\n",
    "    # Save the model if the current validation loss is the best so far\n",
    "    if avg_vloss < best_vloss:\n",
    "        best_vloss = avg_vloss\n",
    "        model_path = 'model_{}_{}'.format(timestamp, epoch_number)\n",
    "        torch.save(model.state_dict(), model_path)\n",
    "\n",
    "    # Increment the epoch counter\n",
    "    epoch_number += 1\n"
   ]
  },
  {
   "cell_type": "code",
   "execution_count": 27,
   "metadata": {},
   "outputs": [],
   "source": [
    "def print_param_dtype(model):\n",
    "    # Iterate through all named parameters in the model\n",
    "    for name, param in model.named_parameters():\n",
    "        # Print the parameter name and its data type (dtype)\n",
    "        print(f\"{name} is loaded in {param.dtype}\")"
   ]
  },
  {
   "cell_type": "code",
   "execution_count": 28,
   "metadata": {},
   "outputs": [
    {
     "name": "stdout",
     "output_type": "stream",
     "text": [
      "conv1.weight is loaded in torch.float32\n",
      "conv1.bias is loaded in torch.float32\n",
      "conv2.weight is loaded in torch.float32\n",
      "conv2.bias is loaded in torch.float32\n",
      "fc1.weight is loaded in torch.float32\n",
      "fc1.bias is loaded in torch.float32\n",
      "fc2.weight is loaded in torch.float32\n",
      "fc2.bias is loaded in torch.float32\n",
      "fc3.weight is loaded in torch.float32\n",
      "fc3.bias is loaded in torch.float32\n"
     ]
    }
   ],
   "source": [
    "print_param_dtype(model)"
   ]
  },
  {
   "cell_type": "code",
   "execution_count": 31,
   "metadata": {},
   "outputs": [],
   "source": [
    "from copy import deepcopy"
   ]
  },
  {
   "cell_type": "code",
   "execution_count": 32,
   "metadata": {},
   "outputs": [],
   "source": [
    "model_bf16 = deepcopy(model)"
   ]
  },
  {
   "cell_type": "code",
   "execution_count": 33,
   "metadata": {},
   "outputs": [],
   "source": [
    "model_bf16 = model_bf16.to(torch.bfloat16)"
   ]
  },
  {
   "cell_type": "code",
   "execution_count": 34,
   "metadata": {},
   "outputs": [
    {
     "name": "stdout",
     "output_type": "stream",
     "text": [
      "conv1.weight is loaded in torch.bfloat16\n",
      "conv1.bias is loaded in torch.bfloat16\n",
      "conv2.weight is loaded in torch.bfloat16\n",
      "conv2.bias is loaded in torch.bfloat16\n",
      "fc1.weight is loaded in torch.bfloat16\n",
      "fc1.bias is loaded in torch.bfloat16\n",
      "fc2.weight is loaded in torch.bfloat16\n",
      "fc2.bias is loaded in torch.bfloat16\n",
      "fc3.weight is loaded in torch.bfloat16\n",
      "fc3.bias is loaded in torch.bfloat16\n"
     ]
    }
   ],
   "source": [
    "print_param_dtype(model_bf16)"
   ]
  },
  {
   "cell_type": "code",
   "execution_count": 35,
   "metadata": {},
   "outputs": [],
   "source": [
    "def evaluate_model(model, test_loader):\n",
    "    # Set the model to evaluation mode\n",
    "    model.eval()\n",
    "\n",
    "    # Initialize metrics\n",
    "    correct = 0\n",
    "    total = 0\n",
    "\n",
    "    # Disable gradient calculation for inference\n",
    "    with torch.no_grad():\n",
    "        for data in test_loader:\n",
    "            images, labels = data\n",
    "            # Forward pass: get predictions\n",
    "            outputs = model(images)\n",
    "            _, predicted = torch.max(outputs.data, 1)  # Get class index with highest probability\n",
    "            # Update metrics\n",
    "            total += labels.size(0)\n",
    "            correct += (predicted == labels).sum().item()\n",
    "\n",
    "    # Calculate and return accuracy\n",
    "    accuracy = 100 * correct / total\n",
    "    return accuracy"
   ]
  },
  {
   "cell_type": "code",
   "execution_count": 36,
   "metadata": {},
   "outputs": [],
   "source": [
    "# Load the test dataset\n",
    "test_set = torchvision.datasets.FashionMNIST('./data', train=False, transform=transform, download=True)\n",
    "test_loader = torch.utils.data.DataLoader(test_set, batch_size=4, shuffle=False)"
   ]
  },
  {
   "cell_type": "code",
   "execution_count": 37,
   "metadata": {},
   "outputs": [],
   "source": [
    "def evaluate_model_bf16(model, test_loader):\n",
    "    # Set the model to evaluation mode\n",
    "    model.eval()\n",
    "\n",
    "    # Initialize metrics\n",
    "    correct = 0\n",
    "    total = 0\n",
    "\n",
    "    # Disable gradient calculation for inference\n",
    "    with torch.no_grad():\n",
    "        for data in test_loader:\n",
    "            images, labels = data\n",
    "            # Convert input images to bfloat16 to match the model\n",
    "            images = images.to(torch.bfloat16)\n",
    "            # Forward pass: get predictions\n",
    "            outputs = model(images)\n",
    "            _, predicted = torch.max(outputs.data, 1)  # Get class index with highest probability\n",
    "            # Update metrics\n",
    "            total += labels.size(0)\n",
    "            correct += (predicted == labels).sum().item()\n",
    "\n",
    "    # Calculate and return accuracy\n",
    "    accuracy = 100 * correct / total\n",
    "    return accuracy"
   ]
  },
  {
   "cell_type": "code",
   "execution_count": 39,
   "metadata": {},
   "outputs": [
    {
     "name": "stdout",
     "output_type": "stream",
     "text": [
      "Accuracy of the model on the test set 32 bits: 88.77%\n"
     ]
    }
   ],
   "source": [
    "test_accuracy = evaluate_model(model, test_loader)\n",
    "print(f'Accuracy of the model on the test set 32 bits: {test_accuracy:.2f}%')"
   ]
  },
  {
   "cell_type": "code",
   "execution_count": 40,
   "metadata": {},
   "outputs": [
    {
     "name": "stdout",
     "output_type": "stream",
     "text": [
      "Accuracy of the model on the test set BF16: 88.73%\n"
     ]
    }
   ],
   "source": [
    "test_accuracy = evaluate_model_bf16(model_bf16, test_loader)\n",
    "print(f'Accuracy of the model on the test set BF16: {test_accuracy:.2f}%')"
   ]
  },
  {
   "cell_type": "code",
   "execution_count": 41,
   "metadata": {},
   "outputs": [],
   "source": [
    "torch.save(model.state_dict(), \"garment_class_FP32.pth\")\n",
    "torch.save(model_bf16.state_dict(), \"garment_class_bf16.pth\")"
   ]
  },
  {
   "cell_type": "markdown",
   "metadata": {},
   "source": [
    "# GPT-Neo"
   ]
  },
  {
   "cell_type": "code",
   "execution_count": 57,
   "metadata": {},
   "outputs": [],
   "source": [
    "from transformers import GPTNeoForCausalLM, AutoTokenizer\n",
    "import torch"
   ]
  },
  {
   "cell_type": "code",
   "execution_count": 58,
   "metadata": {},
   "outputs": [],
   "source": [
    "model = GPTNeoForCausalLM.from_pretrained(\"EleutherAI/gpt-neo-125M\")"
   ]
  },
  {
   "cell_type": "code",
   "execution_count": 59,
   "metadata": {},
   "outputs": [],
   "source": [
    "tokenizer = AutoTokenizer.from_pretrained(\"EleutherAI/gpt-neo-125M\")"
   ]
  },
  {
   "cell_type": "code",
   "execution_count": 60,
   "metadata": {},
   "outputs": [],
   "source": [
    "input_text = \"The future of artificial intelligence is\""
   ]
  },
  {
   "cell_type": "code",
   "execution_count": 61,
   "metadata": {},
   "outputs": [],
   "source": [
    "input_ids = tokenizer(input_text, return_tensors='pt').input_ids"
   ]
  },
  {
   "cell_type": "code",
   "execution_count": 62,
   "metadata": {},
   "outputs": [
    {
     "name": "stderr",
     "output_type": "stream",
     "text": [
      "The attention mask and the pad token id were not set. As a consequence, you may observe unexpected behavior. Please pass your input's `attention_mask` to obtain reliable results.\n",
      "Setting `pad_token_id` to `eos_token_id`:None for open-end generation.\n"
     ]
    }
   ],
   "source": [
    "output = model.generate(input_ids, max_length=25, do_sample=True, temperature=0.7)"
   ]
  },
  {
   "cell_type": "code",
   "execution_count": 63,
   "metadata": {},
   "outputs": [
    {
     "name": "stdout",
     "output_type": "stream",
     "text": [
      "tensor([[  464,  2003,   286, 11666,  4430,   318,   407,  5023,   262,  2003,\n",
      "           286,   597,  1692,   852,    11,   290,  3675,   340,   481,   307,\n",
      "           262,  2003,   286,   597,  3644]])\n"
     ]
    }
   ],
   "source": [
    "print (output)"
   ]
  },
  {
   "cell_type": "code",
   "execution_count": 64,
   "metadata": {},
   "outputs": [
    {
     "name": "stdout",
     "output_type": "stream",
     "text": [
      "The future of artificial intelligence is not unlike the future of any human being, and beyond it will be the future of any computer\n"
     ]
    }
   ],
   "source": [
    "generated_text = tokenizer.decode(output[0], skip_special_tokens=True)\n",
    "print(generated_text)"
   ]
  },
  {
   "cell_type": "code",
   "execution_count": 65,
   "metadata": {},
   "outputs": [],
   "source": [
    "torch.save(model.state_dict(),\"GPTnew_w_fp32\")"
   ]
  },
  {
   "cell_type": "code",
   "execution_count": 51,
   "metadata": {},
   "outputs": [
    {
     "name": "stdout",
     "output_type": "stream",
     "text": [
      "GPTNeoForCausalLM(\n",
      "  (transformer): GPTNeoModel(\n",
      "    (wte): Embedding(50257, 768)\n",
      "    (wpe): Embedding(2048, 768)\n",
      "    (drop): Dropout(p=0.0, inplace=False)\n",
      "    (h): ModuleList(\n",
      "      (0-11): 12 x GPTNeoBlock(\n",
      "        (ln_1): LayerNorm((768,), eps=1e-05, elementwise_affine=True)\n",
      "        (attn): GPTNeoAttention(\n",
      "          (attention): GPTNeoSelfAttention(\n",
      "            (attn_dropout): Dropout(p=0.0, inplace=False)\n",
      "            (resid_dropout): Dropout(p=0.0, inplace=False)\n",
      "            (k_proj): Linear(in_features=768, out_features=768, bias=False)\n",
      "            (v_proj): Linear(in_features=768, out_features=768, bias=False)\n",
      "            (q_proj): Linear(in_features=768, out_features=768, bias=False)\n",
      "            (out_proj): Linear(in_features=768, out_features=768, bias=True)\n",
      "          )\n",
      "        )\n",
      "        (ln_2): LayerNorm((768,), eps=1e-05, elementwise_affine=True)\n",
      "        (mlp): GPTNeoMLP(\n",
      "          (c_fc): Linear(in_features=768, out_features=3072, bias=True)\n",
      "          (c_proj): Linear(in_features=3072, out_features=768, bias=True)\n",
      "          (act): NewGELUActivation()\n",
      "          (dropout): Dropout(p=0.0, inplace=False)\n",
      "        )\n",
      "      )\n",
      "    )\n",
      "    (ln_f): LayerNorm((768,), eps=1e-05, elementwise_affine=True)\n",
      "  )\n",
      "  (lm_head): Linear(in_features=768, out_features=50257, bias=False)\n",
      ")\n"
     ]
    }
   ],
   "source": [
    "print (model)"
   ]
  },
  {
   "cell_type": "code",
   "execution_count": 66,
   "metadata": {},
   "outputs": [],
   "source": [
    "layer_weights = model.transformer.h[0].attn.attention.k_proj.weight"
   ]
  },
  {
   "cell_type": "code",
   "execution_count": 67,
   "metadata": {},
   "outputs": [
    {
     "name": "stdout",
     "output_type": "stream",
     "text": [
      "Weights of the k_proj layer in the first block:\n",
      "Parameter containing:\n",
      "tensor([[-0.0457, -0.0101, -0.1670,  ...,  0.0283, -0.2715, -0.1904],\n",
      "        [-0.1338, -0.2617, -0.3711,  ..., -0.3105,  0.2012, -0.1914],\n",
      "        [-0.0201,  0.2949,  0.0713,  ...,  0.3594,  0.0559, -0.2344],\n",
      "        ...,\n",
      "        [ 0.6016, -0.0645,  0.0854,  ..., -0.3047, -0.0161,  0.0547],\n",
      "        [ 0.2129,  0.4238,  0.3145,  ...,  0.2812,  0.1504, -0.2373],\n",
      "        [-0.5820,  0.0381, -0.3730,  ...,  0.1250, -0.1069, -0.2168]],\n",
      "       requires_grad=True)\n"
     ]
    }
   ],
   "source": [
    "print(\"Weights of the k_proj layer in the first block:\")\n",
    "print(layer_weights)"
   ]
  },
  {
   "cell_type": "markdown",
   "metadata": {},
   "source": [
    " # Quantizing the Model"
   ]
  },
  {
   "cell_type": "code",
   "execution_count": 68,
   "metadata": {},
   "outputs": [],
   "source": [
    "from quanto import quantize, freeze, qint8"
   ]
  },
  {
   "cell_type": "code",
   "execution_count": 69,
   "metadata": {},
   "outputs": [],
   "source": [
    "quantize(model, weights=qint8, activations=None)"
   ]
  },
  {
   "cell_type": "code",
   "execution_count": 70,
   "metadata": {},
   "outputs": [],
   "source": [
    "freeze(model)"
   ]
  },
  {
   "cell_type": "code",
   "execution_count": 71,
   "metadata": {},
   "outputs": [],
   "source": [
    "layer_weights = model.transformer.h[0].attn.attention.k_proj.weight"
   ]
  },
  {
   "cell_type": "code",
   "execution_count": 72,
   "metadata": {},
   "outputs": [
    {
     "name": "stdout",
     "output_type": "stream",
     "text": [
      "Weights of the k_proj layer in the first block:\n",
      "QBytesTensor(tensor([[ -6,  -1, -21,  ...,   4, -34, -24],\n",
      "        [-19, -37, -52,  ..., -43,  28, -27],\n",
      "        [ -3,  45,  11,  ...,  54,   8, -35],\n",
      "        ...,\n",
      "        [ 67,  -7,   9,  ..., -34,  -2,   6],\n",
      "        [ 23,  45,  33,  ...,  30,  16, -25],\n",
      "        [-67,   4, -43,  ...,  14, -12, -25]], dtype=torch.int8), scale=tensor([[0.0079],\n",
      "        [0.0072],\n",
      "        [0.0066],\n",
      "        [0.0106],\n",
      "        [0.0077],\n",
      "        [0.0089],\n",
      "        [0.0081],\n",
      "        [0.0071],\n",
      "        [0.0084],\n",
      "        [0.0061],\n",
      "        [0.0079],\n",
      "        [0.0081],\n",
      "        [0.0082],\n",
      "        [0.0078],\n",
      "        [0.0066],\n",
      "        [0.0094],\n",
      "        [0.0078],\n",
      "        [0.0044],\n",
      "        [0.0078],\n",
      "        [0.0079],\n",
      "        [0.0094],\n",
      "        [0.0083],\n",
      "        [0.0070],\n",
      "        [0.0078],\n",
      "        [0.0066],\n",
      "        [0.0080],\n",
      "        [0.0084],\n",
      "        [0.0102],\n",
      "        [0.0081],\n",
      "        [0.0089],\n",
      "        [0.0097],\n",
      "        [0.0077],\n",
      "        [0.0078],\n",
      "        [0.0090],\n",
      "        [0.0095],\n",
      "        [0.0084],\n",
      "        [0.0082],\n",
      "        [0.0073],\n",
      "        [0.0092],\n",
      "        [0.0070],\n",
      "        [0.0092],\n",
      "        [0.0078],\n",
      "        [0.0082],\n",
      "        [0.0074],\n",
      "        [0.0076],\n",
      "        [0.0100],\n",
      "        [0.0075],\n",
      "        [0.0074],\n",
      "        [0.0078],\n",
      "        [0.0075],\n",
      "        [0.0092],\n",
      "        [0.0076],\n",
      "        [0.0070],\n",
      "        [0.0089],\n",
      "        [0.0094],\n",
      "        [0.0072],\n",
      "        [0.0082],\n",
      "        [0.0088],\n",
      "        [0.0056],\n",
      "        [0.0089],\n",
      "        [0.0081],\n",
      "        [0.0084],\n",
      "        [0.0098],\n",
      "        [0.0087],\n",
      "        [0.0058],\n",
      "        [0.0065],\n",
      "        [0.0074],\n",
      "        [0.0060],\n",
      "        [0.0064],\n",
      "        [0.0060],\n",
      "        [0.0057],\n",
      "        [0.0065],\n",
      "        [0.0058],\n",
      "        [0.0079],\n",
      "        [0.0058],\n",
      "        [0.0057],\n",
      "        [0.0054],\n",
      "        [0.0061],\n",
      "        [0.0074],\n",
      "        [0.0057],\n",
      "        [0.0072],\n",
      "        [0.0060],\n",
      "        [0.0058],\n",
      "        [0.0059],\n",
      "        [0.0053],\n",
      "        [0.0067],\n",
      "        [0.0063],\n",
      "        [0.0054],\n",
      "        [0.0066],\n",
      "        [0.0061],\n",
      "        [0.0072],\n",
      "        [0.0054],\n",
      "        [0.0059],\n",
      "        [0.0098],\n",
      "        [0.0085],\n",
      "        [0.0064],\n",
      "        [0.0068],\n",
      "        [0.0072],\n",
      "        [0.0049],\n",
      "        [0.0053],\n",
      "        [0.0054],\n",
      "        [0.0058],\n",
      "        [0.0051],\n",
      "        [0.0055],\n",
      "        [0.0060],\n",
      "        [0.0057],\n",
      "        [0.0060],\n",
      "        [0.0074],\n",
      "        [0.0056],\n",
      "        [0.0051],\n",
      "        [0.0065],\n",
      "        [0.0054],\n",
      "        [0.0077],\n",
      "        [0.0066],\n",
      "        [0.0060],\n",
      "        [0.0054],\n",
      "        [0.0073],\n",
      "        [0.0053],\n",
      "        [0.0050],\n",
      "        [0.0083],\n",
      "        [0.0066],\n",
      "        [0.0054],\n",
      "        [0.0059],\n",
      "        [0.0059],\n",
      "        [0.0054],\n",
      "        [0.0063],\n",
      "        [0.0057],\n",
      "        [0.0060],\n",
      "        [0.0079],\n",
      "        [0.0091],\n",
      "        [0.0061],\n",
      "        [0.0094],\n",
      "        [0.0077],\n",
      "        [0.0074],\n",
      "        [0.0088],\n",
      "        [0.0096],\n",
      "        [0.0092],\n",
      "        [0.0092],\n",
      "        [0.0095],\n",
      "        [0.0086],\n",
      "        [0.0092],\n",
      "        [0.0100],\n",
      "        [0.0098],\n",
      "        [0.0077],\n",
      "        [0.0079],\n",
      "        [0.0083],\n",
      "        [0.0093],\n",
      "        [0.0091],\n",
      "        [0.0094],\n",
      "        [0.0105],\n",
      "        [0.0098],\n",
      "        [0.0067],\n",
      "        [0.0092],\n",
      "        [0.0101],\n",
      "        [0.0074],\n",
      "        [0.0044],\n",
      "        [0.0093],\n",
      "        [0.0070],\n",
      "        [0.0086],\n",
      "        [0.0093],\n",
      "        [0.0074],\n",
      "        [0.0095],\n",
      "        [0.0079],\n",
      "        [0.0109],\n",
      "        [0.0078],\n",
      "        [0.0091],\n",
      "        [0.0071],\n",
      "        [0.0098],\n",
      "        [0.0086],\n",
      "        [0.0097],\n",
      "        [0.0043],\n",
      "        [0.0060],\n",
      "        [0.0082],\n",
      "        [0.0086],\n",
      "        [0.0078],\n",
      "        [0.0088],\n",
      "        [0.0074],\n",
      "        [0.0081],\n",
      "        [0.0079],\n",
      "        [0.0079],\n",
      "        [0.0094],\n",
      "        [0.0100],\n",
      "        [0.0090],\n",
      "        [0.0077],\n",
      "        [0.0094],\n",
      "        [0.0078],\n",
      "        [0.0094],\n",
      "        [0.0080],\n",
      "        [0.0081],\n",
      "        [0.0103],\n",
      "        [0.0076],\n",
      "        [0.0057],\n",
      "        [0.0072],\n",
      "        [0.0073],\n",
      "        [0.0074],\n",
      "        [0.0080],\n",
      "        [0.0107],\n",
      "        [0.0081],\n",
      "        [0.0064],\n",
      "        [0.0078],\n",
      "        [0.0071],\n",
      "        [0.0083],\n",
      "        [0.0075],\n",
      "        [0.0071],\n",
      "        [0.0083],\n",
      "        [0.0066],\n",
      "        [0.0081],\n",
      "        [0.0077],\n",
      "        [0.0074],\n",
      "        [0.0084],\n",
      "        [0.0070],\n",
      "        [0.0061],\n",
      "        [0.0080],\n",
      "        [0.0071],\n",
      "        [0.0069],\n",
      "        [0.0080],\n",
      "        [0.0076],\n",
      "        [0.0083],\n",
      "        [0.0074],\n",
      "        [0.0084],\n",
      "        [0.0068],\n",
      "        [0.0067],\n",
      "        [0.0082],\n",
      "        [0.0071],\n",
      "        [0.0080],\n",
      "        [0.0077],\n",
      "        [0.0069],\n",
      "        [0.0075],\n",
      "        [0.0062],\n",
      "        [0.0078],\n",
      "        [0.0086],\n",
      "        [0.0070],\n",
      "        [0.0087],\n",
      "        [0.0066],\n",
      "        [0.0070],\n",
      "        [0.0079],\n",
      "        [0.0079],\n",
      "        [0.0086],\n",
      "        [0.0075],\n",
      "        [0.0086],\n",
      "        [0.0077],\n",
      "        [0.0078],\n",
      "        [0.0083],\n",
      "        [0.0074],\n",
      "        [0.0099],\n",
      "        [0.0073],\n",
      "        [0.0073],\n",
      "        [0.0084],\n",
      "        [0.0070],\n",
      "        [0.0085],\n",
      "        [0.0087],\n",
      "        [0.0083],\n",
      "        [0.0078],\n",
      "        [0.0079],\n",
      "        [0.0073],\n",
      "        [0.0070],\n",
      "        [0.0070],\n",
      "        [0.0074],\n",
      "        [0.0087],\n",
      "        [0.0090],\n",
      "        [0.0078],\n",
      "        [0.0086],\n",
      "        [0.0086],\n",
      "        [0.0089],\n",
      "        [0.0098],\n",
      "        [0.0089],\n",
      "        [0.0082],\n",
      "        [0.0075],\n",
      "        [0.0078],\n",
      "        [0.0078],\n",
      "        [0.0085],\n",
      "        [0.0078],\n",
      "        [0.0075],\n",
      "        [0.0106],\n",
      "        [0.0107],\n",
      "        [0.0092],\n",
      "        [0.0067],\n",
      "        [0.0074],\n",
      "        [0.0088],\n",
      "        [0.0092],\n",
      "        [0.0074],\n",
      "        [0.0095],\n",
      "        [0.0102],\n",
      "        [0.0078],\n",
      "        [0.0092],\n",
      "        [0.0087],\n",
      "        [0.0087],\n",
      "        [0.0100],\n",
      "        [0.0089],\n",
      "        [0.0080],\n",
      "        [0.0081],\n",
      "        [0.0099],\n",
      "        [0.0105],\n",
      "        [0.0085],\n",
      "        [0.0087],\n",
      "        [0.0078],\n",
      "        [0.0087],\n",
      "        [0.0084],\n",
      "        [0.0087],\n",
      "        [0.0079],\n",
      "        [0.0071],\n",
      "        [0.0086],\n",
      "        [0.0076],\n",
      "        [0.0080],\n",
      "        [0.0105],\n",
      "        [0.0080],\n",
      "        [0.0074],\n",
      "        [0.0074],\n",
      "        [0.0089],\n",
      "        [0.0075],\n",
      "        [0.0090],\n",
      "        [0.0090],\n",
      "        [0.0099],\n",
      "        [0.0078],\n",
      "        [0.0072],\n",
      "        [0.0079],\n",
      "        [0.0074],\n",
      "        [0.0077],\n",
      "        [0.0076],\n",
      "        [0.0069],\n",
      "        [0.0060],\n",
      "        [0.0074],\n",
      "        [0.0084],\n",
      "        [0.0082],\n",
      "        [0.0062],\n",
      "        [0.0090],\n",
      "        [0.0097],\n",
      "        [0.0046],\n",
      "        [0.0084],\n",
      "        [0.0076],\n",
      "        [0.0124],\n",
      "        [0.0076],\n",
      "        [0.0092],\n",
      "        [0.0072],\n",
      "        [0.0082],\n",
      "        [0.0084],\n",
      "        [0.0089],\n",
      "        [0.0086],\n",
      "        [0.0086],\n",
      "        [0.0086],\n",
      "        [0.0085],\n",
      "        [0.0081],\n",
      "        [0.0073],\n",
      "        [0.0054],\n",
      "        [0.0070],\n",
      "        [0.0082],\n",
      "        [0.0076],\n",
      "        [0.0100],\n",
      "        [0.0084],\n",
      "        [0.0059],\n",
      "        [0.0086],\n",
      "        [0.0097],\n",
      "        [0.0085],\n",
      "        [0.0084],\n",
      "        [0.0081],\n",
      "        [0.0095],\n",
      "        [0.0085],\n",
      "        [0.0081],\n",
      "        [0.0070],\n",
      "        [0.0092],\n",
      "        [0.0075],\n",
      "        [0.0074],\n",
      "        [0.0081],\n",
      "        [0.0107],\n",
      "        [0.0076],\n",
      "        [0.0068],\n",
      "        [0.0079],\n",
      "        [0.0085],\n",
      "        [0.0108],\n",
      "        [0.0115],\n",
      "        [0.0093],\n",
      "        [0.0094],\n",
      "        [0.0073],\n",
      "        [0.0045],\n",
      "        [0.0078],\n",
      "        [0.0084],\n",
      "        [0.0072],\n",
      "        [0.0087],\n",
      "        [0.0075],\n",
      "        [0.0078],\n",
      "        [0.0098],\n",
      "        [0.0091],\n",
      "        [0.0080],\n",
      "        [0.0088],\n",
      "        [0.0089],\n",
      "        [0.0094],\n",
      "        [0.0050],\n",
      "        [0.0102],\n",
      "        [0.0086],\n",
      "        [0.0048],\n",
      "        [0.0075],\n",
      "        [0.0081],\n",
      "        [0.0042],\n",
      "        [0.0077],\n",
      "        [0.0095],\n",
      "        [0.0101],\n",
      "        [0.0102],\n",
      "        [0.0067],\n",
      "        [0.0088],\n",
      "        [0.0096],\n",
      "        [0.0081],\n",
      "        [0.0090],\n",
      "        [0.0092],\n",
      "        [0.0094],\n",
      "        [0.0073],\n",
      "        [0.0087],\n",
      "        [0.0090],\n",
      "        [0.0081],\n",
      "        [0.0102],\n",
      "        [0.0086],\n",
      "        [0.0078],\n",
      "        [0.0102],\n",
      "        [0.0062],\n",
      "        [0.0082],\n",
      "        [0.0091],\n",
      "        [0.0098],\n",
      "        [0.0081],\n",
      "        [0.0106],\n",
      "        [0.0092],\n",
      "        [0.0108],\n",
      "        [0.0094],\n",
      "        [0.0081],\n",
      "        [0.0091],\n",
      "        [0.0097],\n",
      "        [0.0087],\n",
      "        [0.0097],\n",
      "        [0.0074],\n",
      "        [0.0100],\n",
      "        [0.0085],\n",
      "        [0.0086],\n",
      "        [0.0099],\n",
      "        [0.0081],\n",
      "        [0.0082],\n",
      "        [0.0100],\n",
      "        [0.0098],\n",
      "        [0.0086],\n",
      "        [0.0086],\n",
      "        [0.0087],\n",
      "        [0.0087],\n",
      "        [0.0087],\n",
      "        [0.0092],\n",
      "        [0.0086],\n",
      "        [0.0106],\n",
      "        [0.0090],\n",
      "        [0.0111],\n",
      "        [0.0080],\n",
      "        [0.0089],\n",
      "        [0.0050],\n",
      "        [0.0090],\n",
      "        [0.0106],\n",
      "        [0.0095],\n",
      "        [0.0082],\n",
      "        [0.0092],\n",
      "        [0.0086],\n",
      "        [0.0088],\n",
      "        [0.0079],\n",
      "        [0.0102],\n",
      "        [0.0083],\n",
      "        [0.0092],\n",
      "        [0.0098],\n",
      "        [0.0084],\n",
      "        [0.0082],\n",
      "        [0.0078],\n",
      "        [0.0082],\n",
      "        [0.0084],\n",
      "        [0.0092],\n",
      "        [0.0088],\n",
      "        [0.0097],\n",
      "        [0.0078],\n",
      "        [0.0097],\n",
      "        [0.0079],\n",
      "        [0.0095],\n",
      "        [0.0077],\n",
      "        [0.0085],\n",
      "        [0.0117],\n",
      "        [0.0091],\n",
      "        [0.0087],\n",
      "        [0.0095],\n",
      "        [0.0094],\n",
      "        [0.0113],\n",
      "        [0.0087],\n",
      "        [0.0111],\n",
      "        [0.0096],\n",
      "        [0.0102],\n",
      "        [0.0078],\n",
      "        [0.0090],\n",
      "        [0.0054],\n",
      "        [0.0081],\n",
      "        [0.0094],\n",
      "        [0.0080],\n",
      "        [0.0086],\n",
      "        [0.0091],\n",
      "        [0.0092],\n",
      "        [0.0096],\n",
      "        [0.0098],\n",
      "        [0.0081],\n",
      "        [0.0081],\n",
      "        [0.0090],\n",
      "        [0.0087],\n",
      "        [0.0079],\n",
      "        [0.0095],\n",
      "        [0.0070],\n",
      "        [0.0091],\n",
      "        [0.0110],\n",
      "        [0.0091],\n",
      "        [0.0089],\n",
      "        [0.0094],\n",
      "        [0.0114],\n",
      "        [0.0060],\n",
      "        [0.0081],\n",
      "        [0.0087],\n",
      "        [0.0093],\n",
      "        [0.0049],\n",
      "        [0.0059],\n",
      "        [0.0055],\n",
      "        [0.0081],\n",
      "        [0.0063],\n",
      "        [0.0055],\n",
      "        [0.0056],\n",
      "        [0.0046],\n",
      "        [0.0044],\n",
      "        [0.0058],\n",
      "        [0.0051],\n",
      "        [0.0087],\n",
      "        [0.0099],\n",
      "        [0.0058],\n",
      "        [0.0060],\n",
      "        [0.0058],\n",
      "        [0.0058],\n",
      "        [0.0050],\n",
      "        [0.0051],\n",
      "        [0.0055],\n",
      "        [0.0048],\n",
      "        [0.0052],\n",
      "        [0.0054],\n",
      "        [0.0059],\n",
      "        [0.0055],\n",
      "        [0.0049],\n",
      "        [0.0072],\n",
      "        [0.0070],\n",
      "        [0.0065],\n",
      "        [0.0057],\n",
      "        [0.0070],\n",
      "        [0.0055],\n",
      "        [0.0047],\n",
      "        [0.0062],\n",
      "        [0.0050],\n",
      "        [0.0116],\n",
      "        [0.0050],\n",
      "        [0.0057],\n",
      "        [0.0177],\n",
      "        [0.0054],\n",
      "        [0.0057],\n",
      "        [0.0055],\n",
      "        [0.0055],\n",
      "        [0.0054],\n",
      "        [0.0051],\n",
      "        [0.0063],\n",
      "        [0.0059],\n",
      "        [0.0054],\n",
      "        [0.0062],\n",
      "        [0.0059],\n",
      "        [0.0056],\n",
      "        [0.0047],\n",
      "        [0.0051],\n",
      "        [0.0062],\n",
      "        [0.0050],\n",
      "        [0.0055],\n",
      "        [0.0058],\n",
      "        [0.0056],\n",
      "        [0.0055],\n",
      "        [0.0050],\n",
      "        [0.0051],\n",
      "        [0.0055],\n",
      "        [0.0089],\n",
      "        [0.0058],\n",
      "        [0.0105],\n",
      "        [0.0084],\n",
      "        [0.0086],\n",
      "        [0.0088],\n",
      "        [0.0121],\n",
      "        [0.0087],\n",
      "        [0.0101],\n",
      "        [0.0120],\n",
      "        [0.0098],\n",
      "        [0.0083],\n",
      "        [0.0119],\n",
      "        [0.0103],\n",
      "        [0.0095],\n",
      "        [0.0106],\n",
      "        [0.0095],\n",
      "        [0.0102],\n",
      "        [0.0073],\n",
      "        [0.0101],\n",
      "        [0.0092],\n",
      "        [0.0087],\n",
      "        [0.0100],\n",
      "        [0.0097],\n",
      "        [0.0082],\n",
      "        [0.0087],\n",
      "        [0.0077],\n",
      "        [0.0079],\n",
      "        [0.0083],\n",
      "        [0.0117],\n",
      "        [0.0082],\n",
      "        [0.0105],\n",
      "        [0.0148],\n",
      "        [0.0092],\n",
      "        [0.0094],\n",
      "        [0.0087],\n",
      "        [0.0090],\n",
      "        [0.0081],\n",
      "        [0.0123],\n",
      "        [0.0089],\n",
      "        [0.0087],\n",
      "        [0.0116],\n",
      "        [0.0114],\n",
      "        [0.0080],\n",
      "        [0.0087],\n",
      "        [0.0125],\n",
      "        [0.0123],\n",
      "        [0.0093],\n",
      "        [0.0081],\n",
      "        [0.0097],\n",
      "        [0.0094],\n",
      "        [0.0095],\n",
      "        [0.0089],\n",
      "        [0.0110],\n",
      "        [0.0084],\n",
      "        [0.0106],\n",
      "        [0.0108],\n",
      "        [0.0084],\n",
      "        [0.0100],\n",
      "        [0.0090],\n",
      "        [0.0076],\n",
      "        [0.0082],\n",
      "        [0.0092],\n",
      "        [0.0090],\n",
      "        [0.0105],\n",
      "        [0.0107],\n",
      "        [0.0075],\n",
      "        [0.0090],\n",
      "        [0.0087],\n",
      "        [0.0117],\n",
      "        [0.0087],\n",
      "        [0.0095],\n",
      "        [0.0084],\n",
      "        [0.0081],\n",
      "        [0.0094],\n",
      "        [0.0089],\n",
      "        [0.0102],\n",
      "        [0.0098],\n",
      "        [0.0078],\n",
      "        [0.0091],\n",
      "        [0.0097],\n",
      "        [0.0086],\n",
      "        [0.0090],\n",
      "        [0.0104],\n",
      "        [0.0108],\n",
      "        [0.0081],\n",
      "        [0.0094],\n",
      "        [0.0074],\n",
      "        [0.0095],\n",
      "        [0.0068],\n",
      "        [0.0103],\n",
      "        [0.0101],\n",
      "        [0.0081],\n",
      "        [0.0132],\n",
      "        [0.0096],\n",
      "        [0.0087],\n",
      "        [0.0087],\n",
      "        [0.0078],\n",
      "        [0.0074],\n",
      "        [0.0089],\n",
      "        [0.0084],\n",
      "        [0.0103],\n",
      "        [0.0094],\n",
      "        [0.0086],\n",
      "        [0.0084],\n",
      "        [0.0089],\n",
      "        [0.0102],\n",
      "        [0.0123],\n",
      "        [0.0098],\n",
      "        [0.0104],\n",
      "        [0.0079],\n",
      "        [0.0092],\n",
      "        [0.0071],\n",
      "        [0.0089],\n",
      "        [0.0071],\n",
      "        [0.0081],\n",
      "        [0.0111],\n",
      "        [0.0091],\n",
      "        [0.0094],\n",
      "        [0.0086],\n",
      "        [0.0089],\n",
      "        [0.0086],\n",
      "        [0.0097],\n",
      "        [0.0087],\n",
      "        [0.0102],\n",
      "        [0.0088],\n",
      "        [0.0141],\n",
      "        [0.0087],\n",
      "        [0.0092],\n",
      "        [0.0086],\n",
      "        [0.0103],\n",
      "        [0.0086],\n",
      "        [0.0070],\n",
      "        [0.0076],\n",
      "        [0.0091],\n",
      "        [0.0092],\n",
      "        [0.0098],\n",
      "        [0.0070],\n",
      "        [0.0079],\n",
      "        [0.0082],\n",
      "        [0.0093],\n",
      "        [0.0086],\n",
      "        [0.0078],\n",
      "        [0.0106],\n",
      "        [0.0089],\n",
      "        [0.0090],\n",
      "        [0.0079],\n",
      "        [0.0081],\n",
      "        [0.0079],\n",
      "        [0.0087],\n",
      "        [0.0103],\n",
      "        [0.0122],\n",
      "        [0.0082],\n",
      "        [0.0088],\n",
      "        [0.0096],\n",
      "        [0.0110],\n",
      "        [0.0086],\n",
      "        [0.0103],\n",
      "        [0.0086],\n",
      "        [0.0072],\n",
      "        [0.0098],\n",
      "        [0.0077],\n",
      "        [0.0104],\n",
      "        [0.0088],\n",
      "        [0.0090],\n",
      "        [0.0081],\n",
      "        [0.0088],\n",
      "        [0.0111],\n",
      "        [0.0085],\n",
      "        [0.0083],\n",
      "        [0.0089],\n",
      "        [0.0091],\n",
      "        [0.0071],\n",
      "        [0.0096],\n",
      "        [0.0094],\n",
      "        [0.0122],\n",
      "        [0.0094],\n",
      "        [0.0086],\n",
      "        [0.0080],\n",
      "        [0.0082],\n",
      "        [0.0092],\n",
      "        [0.0086],\n",
      "        [0.0086],\n",
      "        [0.0066],\n",
      "        [0.0077],\n",
      "        [0.0094],\n",
      "        [0.0100],\n",
      "        [0.0084],\n",
      "        [0.0090],\n",
      "        [0.0086],\n",
      "        [0.0090],\n",
      "        [0.0090],\n",
      "        [0.0094],\n",
      "        [0.0087]]), dtype=torch.float32)\n"
     ]
    }
   ],
   "source": [
    "print(\"Weights of the k_proj layer in the first block:\")\n",
    "print(layer_weights)"
   ]
  },
  {
   "cell_type": "code",
   "execution_count": 73,
   "metadata": {},
   "outputs": [],
   "source": [
    "torch.save(model.state_dict(), \"GPTnew_w_int8.pth\")"
   ]
  },
  {
   "cell_type": "code",
   "execution_count": 74,
   "metadata": {},
   "outputs": [
    {
     "name": "stderr",
     "output_type": "stream",
     "text": [
      "The attention mask and the pad token id were not set. As a consequence, you may observe unexpected behavior. Please pass your input's `attention_mask` to obtain reliable results.\n",
      "Setting `pad_token_id` to `eos_token_id`:None for open-end generation.\n",
      "C:\\Users\\Pukhraj\\AppData\\Roaming\\Python\\Python38\\site-packages\\quanto\\library\\ops.py:66: UserWarning: An exception was raised while calling the optimized kernel for quanto::dqmm: Ninja is required to load C++ extensions Falling back to default implementation.\n",
      "  warnings.warn(message + \" Falling back to default implementation.\")\n",
      "C:\\Users\\Pukhraj\\AppData\\Roaming\\Python\\Python38\\site-packages\\quanto\\library\\ops.py:66: UserWarning: An exception was raised while calling the optimized kernel for quanto::dqmm: DLL load failed while importing quanto_cpp: The specified module could not be found. Falling back to default implementation.\n",
      "  warnings.warn(message + \" Falling back to default implementation.\")\n"
     ]
    }
   ],
   "source": [
    "output = model.generate(input_ids, max_length=25, do_sample=True, temperature=0.7)"
   ]
  },
  {
   "cell_type": "code",
   "execution_count": 76,
   "metadata": {},
   "outputs": [
    {
     "name": "stdout",
     "output_type": "stream",
     "text": [
      "The future of artificial intelligence is in the hands of the government, who have the power to decide what information is useful to the\n"
     ]
    }
   ],
   "source": [
    "generated_text = tokenizer.decode(output[0], skip_special_tokens=True)\n",
    "print(generated_text)"
   ]
  },
  {
   "cell_type": "code",
   "execution_count": null,
   "metadata": {},
   "outputs": [],
   "source": []
  },
  {
   "cell_type": "code",
   "execution_count": null,
   "metadata": {},
   "outputs": [],
   "source": []
  },
  {
   "cell_type": "code",
   "execution_count": null,
   "metadata": {},
   "outputs": [],
   "source": []
  },
  {
   "cell_type": "code",
   "execution_count": null,
   "metadata": {},
   "outputs": [],
   "source": []
  },
  {
   "cell_type": "code",
   "execution_count": null,
   "metadata": {},
   "outputs": [],
   "source": []
  },
  {
   "cell_type": "code",
   "execution_count": null,
   "metadata": {},
   "outputs": [],
   "source": []
  },
  {
   "cell_type": "code",
   "execution_count": null,
   "metadata": {},
   "outputs": [],
   "source": []
  }
 ],
 "metadata": {
  "kernelspec": {
   "display_name": "Python 3",
   "language": "python",
   "name": "python3"
  },
  "language_info": {
   "codemirror_mode": {
    "name": "ipython",
    "version": 3
   },
   "file_extension": ".py",
   "mimetype": "text/x-python",
   "name": "python",
   "nbconvert_exporter": "python",
   "pygments_lexer": "ipython3",
   "version": "3.8.5"
  }
 },
 "nbformat": 4,
 "nbformat_minor": 4
}
